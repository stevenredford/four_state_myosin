{
 "cells": [
  {
   "cell_type": "code",
   "execution_count": 1,
   "metadata": {},
   "outputs": [],
   "source": [
    "import numpy as np\n",
    "import matplotlib.pyplot as plt\n",
    "import matplotlib.colors as col\n",
    "import scipy.optimize as opt"
   ]
  },
  {
   "cell_type": "code",
   "execution_count": 2,
   "metadata": {},
   "outputs": [],
   "source": [
    "t0 = 0\n",
    "#ntrials = 3\n",
    "gamma = 10\n",
    "halfstep = 0.05\n",
    "factor = 1\n",
    "eta = 10"
   ]
  },
  {
   "cell_type": "code",
   "execution_count": 3,
   "metadata": {},
   "outputs": [],
   "source": [
    "def gillespie_step(x,a0,v):\n",
    "    xocc = np.array([x[0],x[1],x[1],x[2],x[2],\\\n",
    "                     x[0],x[3],x[3],x[4],x[4],\\\n",
    "                    x[0],x[5],x[5],x[6],x[6],\\\n",
    "                    x[0],x[7],x[7],x[8],x[8]])\n",
    "    #xocc[xocc != 0] = 1\n",
    "    a = a0*xocc\n",
    "\n",
    "    at = np.sum(a)\n",
    "\n",
    "    r1 = np.random.rand()\n",
    "    r2 = np.random.rand()\n",
    "\n",
    "    tau = 1/at*np.log(1/r1)\n",
    "\n",
    "    numel = np.size(a)\n",
    "    thresh = at*r2\n",
    "    for ii in range(numel):\n",
    "        jj = ii + 1\n",
    "        aj = np.sum(a[:jj])\n",
    "        if aj < thresh:\n",
    "            continue\n",
    "        else:\n",
    "            j = ii\n",
    "            dx = v[j,:]\n",
    "            break\n",
    "    \n",
    "    dt = tau\n",
    "    return dx,dt,j"
   ]
  },
  {
   "cell_type": "code",
   "execution_count": 4,
   "metadata": {},
   "outputs": [],
   "source": [
    "\"\"\"\n",
    "define rate constants and the topology of the model; 4 state\n",
    "\"\"\"\n",
    "a01 = 3e0\n",
    "a10 = 1e0\n",
    "a12 = 5e3\n",
    "a21 = 1e3\n",
    "a20 = 7e0 #this is the base rate, we will alter this as a function of ATP later\n",
    "\"\"\"\n",
    "\"\"\"\n",
    "#the order of reactions in the following \n",
    "#[[01],[10],[12],[21],[20],\\ [03],[30],[34],[43],[40]]\n",
    "\n",
    "v = np.array([[-1,1,0,0,0,0,0,0,0],[1,-1,0,0,0,0,0,0,0],[0,-1,1,0,0,0,0,0,0],[0,1,-1,0,0,0,0,0,0],[1,0,-1,0,0,0,0,0,0],\\\n",
    "              [-1,0,0,1,0,0,0,0,0],[1,0,0,-1,0,0,0,0,0],[0,0,0,-1,1,0,0,0,0],[0,0,0,1,-1,0,0,0,0],[1,0,0,0,-1,0,0,0,0],\\\n",
    "              [-1,0,0,0,0,1,0,0,0],[1,0,0,0,0,-1,0,0,0],[0,0,0,0,0,-1,1,0,0],[0,0,0,0,0,1,-1,0,0],[1,0,0,0,0,0,-1,0,0],\\\n",
    "             [-1,0,0,0,0,0,0,1,0],[1,0,0,0,0,0,0,-1,0],[0,0,0,0,0,0,0,-1,1],[0,0,0,0,0,0,0,1,-1],[1,0,0,0,0,0,0,0,-1]])\n",
    "\n",
    "a0 = np.array([a01,a10,a12,a21,a20,\\\n",
    "               a01,a10,a12,a21,a20,\\\n",
    "               a01,a10,a12,a21,a20,\\\n",
    "               a01,a10,a12,a21,a20])"
   ]
  },
  {
   "cell_type": "code",
   "execution_count": 5,
   "metadata": {},
   "outputs": [],
   "source": [
    "def is_xlked(tmp_state):\n",
    "    #the total number of heads bound to filament 1\n",
    "    fil1 = np.sum(tmp_state[1:5])\n",
    "    fil2 = np.sum(tmp_state[5:])\n",
    "    xlked = fil1*fil2\n",
    "    \n",
    "    if xlked > 0:\n",
    "        val = True\n",
    "    else:\n",
    "        val = False\n",
    "    \n",
    "    return val"
   ]
  },
  {
   "cell_type": "code",
   "execution_count": 6,
   "metadata": {},
   "outputs": [],
   "source": [
    "n = 8\n",
    "ATP = 5\n",
    "K = [5,0.1]\n",
    "tfinal = 1\n",
    "\n",
    "count = 0\n",
    "a00 = np.array([a01,a10,a12,a21,a20*ATP,\\\n",
    "               a01*0,a10,a12,a21,a20*ATP,\\\n",
    "               a01,a10,a12,a21,a20*ATP,\\\n",
    "               a01*0,a10,a12,a21,a20*ATP])\n",
    "a0 = a00\n",
    "s0 = [n,0,0,0,0,0,0,0,0]\n",
    "\n",
    "state = []\n",
    "time = []\n",
    "disp = []\n",
    "pos_x = []\n",
    "pos_y = []\n",
    "a_stor = []\n",
    "\n",
    "t = 0\n",
    "s = s0\n",
    "xt = [0,0]\n",
    "\n",
    "forward = [0,2]\n",
    "\n",
    "wb11 = []\n",
    "wb12 = []\n",
    "\n",
    "wb21 = []\n",
    "wb22 = []\n",
    "\n",
    "while t < tfinal:\n",
    "    \n",
    "    step = False\n",
    "    #Gillespie step\n",
    "    ds,dt,ind = gillespie_step(s,a0,v)\n",
    "\n",
    "    #update state and time\n",
    "    s = s + ds\n",
    "    t = t + dt\n",
    "    \n",
    "    #if a head is binding to a filament, add its position to the storage array\n",
    "    if ind == 0:\n",
    "        wb11.append(xt[0]+halfstep)\n",
    "    elif ind == 5:\n",
    "        wb12.append(xt[0]+halfstep)\n",
    "    elif ind == 10:\n",
    "        wb21.append(xt[1]+halfstep)\n",
    "    elif ind == 15:\n",
    "        wb22.append(xt[1]+halfstep)\n",
    "    \n",
    "    \"\"\"\n",
    "    \"\"\"\n",
    "    #this is the full monty\n",
    "    if forward[0] == 0:\n",
    "        nforw_pps = s[2]\n",
    "        nbk = s[3] + s[4]\n",
    "    else:\n",
    "        nforw_pps = s[4]\n",
    "        nbk = s[1] + s[2]\n",
    "    \n",
    "    if (nbk == 0 and nforw_pps != 0):\n",
    "        dx = 2*halfstep#*(1 - (K[0]*s[1])/(K[0]*s[1] + K[1]*s[2]))\n",
    "        xt[0] += dx\n",
    "        \n",
    "        #update a0\n",
    "        a0[forward[0]*5] = 0\n",
    "        a0[(forward[0]+1)%2*5] = a01\n",
    "        \n",
    "        forward[0] = (forward[0]+1)%2\n",
    "        \n",
    "        step = True\n",
    "    \"\"\"\n",
    "    \"\"\"\n",
    "    if forward[1] == 2:\n",
    "        nforw_pps = s[6]\n",
    "        nbk = s[7] + s[8]\n",
    "    else:\n",
    "        nforw_pps = s[8]\n",
    "        nbk = s[5] + s[6]\n",
    "    \n",
    "    if (nbk == 0 and nforw_pps != 0):\n",
    "        dx = 2*halfstep#*(1 - (K[0]*s[1])/(K[0]*s[1] + K[1]*s[2]))\n",
    "        xt[1] += dx\n",
    "        \n",
    "        #update a0\n",
    "        a0[forward[1]*5] = 0\n",
    "        a0[(2 + (forward[1]+1)%2)*5] = a01\n",
    "        \n",
    "        forward[1] = 2 + (forward[1]+1)%2\n",
    "        \n",
    "        step = True\n",
    "    \"\"\"\n",
    "    \"\"\"\n",
    "    \n",
    "    #keep track of displacement events\n",
    "    if (step and is_xlked(s)):\n",
    "        disp.append(dx)\n",
    "        #print('vel = ', np.sum(dx)/dt)\n",
    "    else:\n",
    "        disp.append(0)\n",
    "\n",
    "    \n",
    "    \n",
    "    state.append(s)\n",
    "    time.append(t)\n",
    "    pos_x.append(xt[0])\n",
    "    pos_y.append(xt[1])\n",
    "\n",
    "    count += 1\n",
    "\n",
    "state = np.asarray(state)\n",
    "time = np.asarray(time)\n",
    "disp = np.asarray(disp)\n",
    "pos_x = np.asarray(pos_x)\n",
    "pos_y = np.asarray(pos_y)\n",
    "a_stor = np.asarray(a_stor)\n",
    "\n",
    "#print(pos_x)\n"
   ]
  },
  {
   "cell_type": "code",
   "execution_count": 7,
   "metadata": {},
   "outputs": [
    {
     "data": {
      "image/png": "[encoded data removed]",
      "text/plain": [
       "<Figure size 432x288 with 1 Axes>"
      ]
     },
     "metadata": {
      "needs_background": "light"
     },
     "output_type": "display_data"
    }
   ],
   "source": [
    "plt.plot(time,pos_x,'r')\n",
    "plt.plot(time,pos_y,'k')\n",
    "plt.xlabel('time (s)')\n",
    "plt.ylabel('displacement (um)')\n",
    "plt.show()"
   ]
  },
  {
   "cell_type": "code",
   "execution_count": 8,
   "metadata": {},
   "outputs": [
    {
     "data": {
      "image/png": "[encoded data removed]",
      "text/plain": [
       "<Figure size 432x288 with 1 Axes>"
      ]
     },
     "metadata": {
      "needs_background": "light"
     },
     "output_type": "display_data"
    }
   ],
   "source": [
    "plt.plot(state[:,1],'r--')\n",
    "plt.plot(state[:,3],'r')\n",
    "plt.plot(state[:,5],'k--')\n",
    "plt.plot(state[:,7],'k')\n",
    "plt.show()"
   ]
  },
  {
   "cell_type": "code",
   "execution_count": 11,
   "metadata": {},
   "outputs": [
    {
     "data": {
      "image/png": "[encoded data removed]",
      "text/plain": [
       "<Figure size 432x288 with 1 Axes>"
      ]
     },
     "metadata": {
      "needs_background": "light"
     },
     "output_type": "display_data"
    }
   ],
   "source": [
    "plt.plot(time,disp, 'k')\n",
    "plt.xlabel('time (s)')\n",
    "plt.ylabel('pair displacement (um)')\n",
    "plt.show()"
   ]
  },
  {
   "cell_type": "code",
   "execution_count": null,
   "metadata": {},
   "outputs": [],
   "source": []
  }
 ],
 "metadata": {
  "kernelspec": {
   "display_name": "Python 3",
   "language": "python",
   "name": "python3"
  },
  "language_info": {
   "codemirror_mode": {
    "name": "ipython",
    "version": 3
   },
   "file_extension": ".py",
   "mimetype": "text/x-python",
   "name": "python",
   "nbconvert_exporter": "python",
   "pygments_lexer": "ipython3",
   "version": "3.7.6"
  }
 },
 "nbformat": 4,
 "nbformat_minor": 4
}
